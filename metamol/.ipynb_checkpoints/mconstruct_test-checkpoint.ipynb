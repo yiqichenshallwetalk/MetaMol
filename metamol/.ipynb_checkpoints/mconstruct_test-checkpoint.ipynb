{
 "cells": [
  {
   "cell_type": "code",
   "execution_count": 1,
   "id": "c8f16752",
   "metadata": {},
   "outputs": [],
   "source": [
    "import molecule as mol"
   ]
  },
  {
   "cell_type": "code",
   "execution_count": 2,
   "id": "bf72fc79",
   "metadata": {},
   "outputs": [],
   "source": [
    "#from rdkit.Chem import AllChem"
   ]
  },
  {
   "cell_type": "code",
   "execution_count": 3,
   "id": "2ba8d5fe",
   "metadata": {},
   "outputs": [],
   "source": [
    "smi = 'Cc1c(COc2cc(OCc3cccc(c3)C#N)c(CN3C[C@H](O)C[C@H]3C(O)=O)cc2Cl)cccc1-c1ccc2OCCOc2c1'"
   ]
  },
  {
   "cell_type": "code",
   "execution_count": 4,
   "id": "74425420",
   "metadata": {},
   "outputs": [],
   "source": [
    "mol1 = mol.Molecule(smi)"
   ]
  },
  {
   "cell_type": "code",
   "execution_count": 5,
   "id": "cce345a0",
   "metadata": {},
   "outputs": [],
   "source": [
    "params = {'style': 'sphere', 'surface': 'SAS', 'opacity': 0.7}"
   ]
  },
  {
   "cell_type": "code",
   "execution_count": 6,
   "id": "928f970d",
   "metadata": {},
   "outputs": [
    {
     "data": {
      "application/3dmoljs_load.v0": "<div id=\"3dmolviewer_16358339992607727\"  style=\"position: relative; width: 600px; height: 300px\">\n        <p id=\"3dmolwarning_16358339992607727\" style=\"background-color:#ffcccc;color:black\">You appear to be running in JupyterLab (or JavaScript failed to load for some other reason).  You need to install the 3dmol extension: <br>\n        <tt>jupyter labextension install jupyterlab_3dmol</tt></p>\n        </div>\n<script>\n\nvar loadScriptAsync = function(uri){\n  return new Promise((resolve, reject) => {\n    var tag = document.createElement('script');\n    tag.src = uri;\n    tag.async = true;\n    tag.onload = () => {\n      resolve();\n    };\n  var firstScriptTag = document.getElementsByTagName('script')[0];\n  firstScriptTag.parentNode.insertBefore(tag, firstScriptTag);\n});\n};\n\nif(typeof $3Dmolpromise === 'undefined') {\n$3Dmolpromise = null;\n  $3Dmolpromise = loadScriptAsync('https://3dmol.org/build/3Dmol.js');\n}\n\nvar viewer_16358339992607727 = null;\nvar warn = document.getElementById(\"3dmolwarning_16358339992607727\");\nif(warn) {\n    warn.parentNode.removeChild(warn);\n}\n$3Dmolpromise.then(function() {\nviewer_16358339992607727 = $3Dmol.createViewer($(\"#3dmolviewer_16358339992607727\"),{backgroundColor:\"white\"});\nviewer_16358339992607727.zoomTo();\n\tviewer_16358339992607727.addModel(\"\\n     RDKit          3D\\n\\n 79 84  0  0  0  0  0  0  0  0999 V2000\\n    3.5751   -0.7604   -0.9370 C   0  0  0  0  0  0  0  0  0  0  0  0\\n    3.0320   -0.2446    0.3809 C   0  0  0  0  0  0  0  0  0  0  0  0\\n    2.0760   -1.0172    1.0986 C   0  0  0  0  0  0  0  0  0  0  0  0\\n    1.6865   -2.4083    0.6262 C   0  0  0  0  0  0  0  0  0  0  0  0\\n    0.5664   -2.9491    1.3315 O   0  0  0  0  0  0  0  0  0  0  0  0\\n   -0.7704   -2.5487    1.1740 C   0  0  0  0  0  0  0  0  0  0  0  0\\n   -1.1595   -1.5668    0.2444 C   0  0  0  0  0  0  0  0  0  0  0  0\\n   -2.5094   -1.1813    0.1294 C   0  0  0  0  0  0  0  0  0  0  0  0\\n   -2.9229   -0.1926   -0.7810 O   0  0  0  0  0  0  0  0  0  0  0  0\\n   -2.0973    0.4521   -1.7519 C   0  0  0  0  0  0  0  0  0  0  0  0\\n   -1.2706    1.5801   -1.1789 C   0  0  0  0  0  0  0  0  0  0  0  0\\n   -1.3039    1.9234    0.1863 C   0  0  0  0  0  0  0  0  0  0  0  0\\n   -0.5555    3.0036    0.6609 C   0  0  0  0  0  0  0  0  0  0  0  0\\n    0.2224    3.7569   -0.2205 C   0  0  0  0  0  0  0  0  0  0  0  0\\n    0.2762    3.4195   -1.5784 C   0  0  0  0  0  0  0  0  0  0  0  0\\n   -0.4665    2.3346   -2.0559 C   0  0  0  0  0  0  0  0  0  0  0  0\\n    1.0939    4.1910   -2.4807 C   0  0  0  0  0  0  0  0  0  0  0  0\\n    1.7574    4.8073   -3.2002 N   0  0  0  0  0  0  0  0  0  0  0  0\\n   -3.4775   -1.7912    0.9568 C   0  0  0  0  0  0  0  0  0  0  0  0\\n   -4.9299   -1.3713    0.8997 C   0  0  0  0  0  0  0  0  0  0  0  0\\n   -5.8352   -2.5391    0.8846 N   0  0  0  0  0  0  0  0  0  0  0  0\\n   -7.2444   -2.1585    0.9833 C   0  0  0  0  0  0  0  0  0  0  0  0\\n   -8.0380   -3.3709    0.5164 C   0  0  2  0  0  0  0  0  0  0  0  0\\n   -8.3109   -4.2470    1.5838 O   0  0  0  0  0  0  0  0  0  0  0  0\\n   -7.1432   -4.0347   -0.5244 C   0  0  0  0  0  0  0  0  0  0  0  0\\n   -5.7302   -3.4857   -0.2546 C   0  0  1  0  0  0  0  0  0  0  0  0\\n   -5.1193   -2.9078   -1.5130 C   0  0  0  0  0  0  0  0  0  0  0  0\\n   -3.9577   -3.4781   -2.0315 O   0  0  0  0  0  0  0  0  0  0  0  0\\n   -5.6673   -1.9479   -2.1183 O   0  0  0  0  0  0  0  0  0  0  0  0\\n   -3.0795   -2.7592    1.8885 C   0  0  0  0  0  0  0  0  0  0  0  0\\n   -1.7429   -3.1438    1.9878 C   0  0  0  0  0  0  0  0  0  0  0  0\\n   -1.2913   -4.3658    3.1670 Cl  0  0  0  0  0  0  0  0  0  0  0  0\\n    1.5546   -0.5127    2.3057 C   0  0  0  0  0  0  0  0  0  0  0  0\\n    1.9101    0.7514    2.7640 C   0  0  0  0  0  0  0  0  0  0  0  0\\n    2.8228    1.5219    2.0560 C   0  0  0  0  0  0  0  0  0  0  0  0\\n    3.4033    1.0354    0.8765 C   0  0  0  0  0  0  0  0  0  0  0  0\\n    4.4007    1.8924    0.2009 C   0  0  0  0  0  0  0  0  0  0  0  0\\n    3.9939    3.0940   -0.3998 C   0  0  0  0  0  0  0  0  0  0  0  0\\n    4.9298    3.9272   -1.0204 C   0  0  0  0  0  0  0  0  0  0  0  0\\n    6.2795    3.5686   -1.0302 C   0  0  0  0  0  0  0  0  0  0  0  0\\n    7.2264    4.3676   -1.6780 O   0  0  0  0  0  0  0  0  0  0  0  0\\n    8.5473    3.8837   -1.9356 C   0  0  0  0  0  0  0  0  0  0  0  0\\n    9.0478    3.0419   -0.7531 C   0  0  0  0  0  0  0  0  0  0  0  0\\n    8.0623    2.0783   -0.3736 O   0  0  0  0  0  0  0  0  0  0  0  0\\n    6.7000    2.3939   -0.3914 C   0  0  0  0  0  0  0  0  0  0  0  0\\n    5.7640    1.5498    0.2137 C   0  0  0  0  0  0  0  0  0  0  0  0\\n    4.4361   -0.1843   -1.3172 H   0  0  0  0  0  0  0  0  0  0  0  0\\n    2.7763   -0.7155   -1.7028 H   0  0  0  0  0  0  0  0  0  0  0  0\\n    3.9200   -1.8043   -0.8220 H   0  0  0  0  0  0  0  0  0  0  0  0\\n    2.5511   -3.0789    0.8024 H   0  0  0  0  0  0  0  0  0  0  0  0\\n    1.4774   -2.4207   -0.4643 H   0  0  0  0  0  0  0  0  0  0  0  0\\n   -0.4136   -1.0889   -0.3709 H   0  0  0  0  0  0  0  0  0  0  0  0\\n   -2.7657    0.8807   -2.5240 H   0  0  0  0  0  0  0  0  0  0  0  0\\n   -1.4521   -0.2871   -2.2712 H   0  0  0  0  0  0  0  0  0  0  0  0\\n   -1.9169    1.3703    0.8880 H   0  0  0  0  0  0  0  0  0  0  0  0\\n   -0.5850    3.2657    1.7152 H   0  0  0  0  0  0  0  0  0  0  0  0\\n    0.7929    4.5972    0.1583 H   0  0  0  0  0  0  0  0  0  0  0  0\\n   -0.4299    2.0832   -3.1123 H   0  0  0  0  0  0  0  0  0  0  0  0\\n   -5.1370   -0.7007    0.0387 H   0  0  0  0  0  0  0  0  0  0  0  0\\n   -5.1294   -0.7750    1.8165 H   0  0  0  0  0  0  0  0  0  0  0  0\\n   -7.4709   -1.2994    0.3105 H   0  0  0  0  0  0  0  0  0  0  0  0\\n   -7.4986   -1.8844    2.0304 H   0  0  0  0  0  0  0  0  0  0  0  0\\n   -9.0025   -3.0472    0.0652 H   0  0  0  0  0  0  0  0  0  0  0  0\\n   -7.4407   -4.5188    1.9956 H   0  0  0  0  0  0  0  0  0  0  0  0\\n   -7.5078   -3.7654   -1.5400 H   0  0  0  0  0  0  0  0  0  0  0  0\\n   -7.1644   -5.1431   -0.4327 H   0  0  0  0  0  0  0  0  0  0  0  0\\n   -5.0895   -4.3361    0.0730 H   0  0  0  0  0  0  0  0  0  0  0  0\\n   -3.5398   -3.1281   -2.8882 H   0  0  0  0  0  0  0  0  0  0  0  0\\n   -3.8119   -3.2211    2.5378 H   0  0  0  0  0  0  0  0  0  0  0  0\\n    0.8650   -1.0895    2.9059 H   0  0  0  0  0  0  0  0  0  0  0  0\\n    1.4835    1.1301    3.6850 H   0  0  0  0  0  0  0  0  0  0  0  0\\n    3.0939    2.4995    2.4389 H   0  0  0  0  0  0  0  0  0  0  0  0\\n    2.9541    3.3764   -0.3982 H   0  0  0  0  0  0  0  0  0  0  0  0\\n    4.6035    4.8379   -1.5037 H   0  0  0  0  0  0  0  0  0  0  0  0\\n    8.5294    3.2473   -2.8469 H   0  0  0  0  0  0  0  0  0  0  0  0\\n    9.2310    4.7409   -2.1076 H   0  0  0  0  0  0  0  0  0  0  0  0\\n    9.2515    3.7123    0.1092 H   0  0  0  0  0  0  0  0  0  0  0  0\\n    9.9893    2.5205   -1.0206 H   0  0  0  0  0  0  0  0  0  0  0  0\\n    6.0954    0.6349    0.6949 H   0  0  0  0  0  0  0  0  0  0  0  0\\n  1  2  1  0\\n  2  3  2  0\\n  3  4  1  0\\n  4  5  1  0\\n  5  6  1  0\\n  6  7  2  0\\n  7  8  1  0\\n  8  9  1  0\\n  9 10  1  0\\n 10 11  1  0\\n 11 12  2  0\\n 12 13  1  0\\n 13 14  2  0\\n 14 15  1  0\\n 15 16  2  0\\n 15 17  1  0\\n 17 18  3  0\\n  8 19  2  0\\n 19 20  1  0\\n 20 21  1  0\\n 21 22  1  0\\n 22 23  1  0\\n 23 24  1  0\\n 23 25  1  0\\n 25 26  1  0\\n 26 27  1  0\\n 27 28  1  0\\n 27 29  2  0\\n 19 30  1  0\\n 30 31  2  0\\n 31 32  1  0\\n  3 33  1  0\\n 33 34  2  0\\n 34 35  1  0\\n 35 36  2  0\\n 36 37  1  0\\n 37 38  2  0\\n 38 39  1  0\\n 39 40  2  0\\n 40 41  1  0\\n 41 42  1  0\\n 42 43  1  0\\n 43 44  1  0\\n 44 45  1  0\\n 45 46  2  0\\n 36  2  1  0\\n 46 37  1  0\\n 31  6  1  0\\n 45 40  1  0\\n 16 11  1  0\\n 26 21  1  0\\n  1 47  1  0\\n  1 48  1  0\\n  1 49  1  0\\n  4 50  1  0\\n  4 51  1  0\\n  7 52  1  0\\n 10 53  1  0\\n 10 54  1  0\\n 12 55  1  0\\n 13 56  1  0\\n 14 57  1  0\\n 16 58  1  0\\n 20 59  1  0\\n 20 60  1  0\\n 22 61  1  0\\n 22 62  1  0\\n 23 63  1  6\\n 24 64  1  0\\n 25 65  1  0\\n 25 66  1  0\\n 26 67  1  1\\n 28 68  1  0\\n 30 69  1  0\\n 33 70  1  0\\n 34 71  1  0\\n 35 72  1  0\\n 38 73  1  0\\n 39 74  1  0\\n 42 75  1  0\\n 42 76  1  0\\n 43 77  1  0\\n 43 78  1  0\\n 46 79  1  0\\nM  END\\n\",\"mol\");\n\tviewer_16358339992607727.setStyle({\"sphere\": {\"scale\": 1}});\n\tviewer_16358339992607727.addSurface(3,{\"opacity\": 0.7});\n\tviewer_16358339992607727.zoomTo();\nviewer_16358339992607727.render();\n});\n</script>",
      "text/html": [
       "<div id=\"3dmolviewer_16358339992607727\"  style=\"position: relative; width: 600px; height: 300px\">\n",
       "        <p id=\"3dmolwarning_16358339992607727\" style=\"background-color:#ffcccc;color:black\">You appear to be running in JupyterLab (or JavaScript failed to load for some other reason).  You need to install the 3dmol extension: <br>\n",
       "        <tt>jupyter labextension install jupyterlab_3dmol</tt></p>\n",
       "        </div>\n",
       "<script>\n",
       "\n",
       "var loadScriptAsync = function(uri){\n",
       "  return new Promise((resolve, reject) => {\n",
       "    var tag = document.createElement('script');\n",
       "    tag.src = uri;\n",
       "    tag.async = true;\n",
       "    tag.onload = () => {\n",
       "      resolve();\n",
       "    };\n",
       "  var firstScriptTag = document.getElementsByTagName('script')[0];\n",
       "  firstScriptTag.parentNode.insertBefore(tag, firstScriptTag);\n",
       "});\n",
       "};\n",
       "\n",
       "if(typeof $3Dmolpromise === 'undefined') {\n",
       "$3Dmolpromise = null;\n",
       "  $3Dmolpromise = loadScriptAsync('https://3dmol.org/build/3Dmol.js');\n",
       "}\n",
       "\n",
       "var viewer_16358339992607727 = null;\n",
       "var warn = document.getElementById(\"3dmolwarning_16358339992607727\");\n",
       "if(warn) {\n",
       "    warn.parentNode.removeChild(warn);\n",
       "}\n",
       "$3Dmolpromise.then(function() {\n",
       "viewer_16358339992607727 = $3Dmol.createViewer($(\"#3dmolviewer_16358339992607727\"),{backgroundColor:\"white\"});\n",
       "viewer_16358339992607727.zoomTo();\n",
       "\tviewer_16358339992607727.addModel(\"\\n     RDKit          3D\\n\\n 79 84  0  0  0  0  0  0  0  0999 V2000\\n    3.5751   -0.7604   -0.9370 C   0  0  0  0  0  0  0  0  0  0  0  0\\n    3.0320   -0.2446    0.3809 C   0  0  0  0  0  0  0  0  0  0  0  0\\n    2.0760   -1.0172    1.0986 C   0  0  0  0  0  0  0  0  0  0  0  0\\n    1.6865   -2.4083    0.6262 C   0  0  0  0  0  0  0  0  0  0  0  0\\n    0.5664   -2.9491    1.3315 O   0  0  0  0  0  0  0  0  0  0  0  0\\n   -0.7704   -2.5487    1.1740 C   0  0  0  0  0  0  0  0  0  0  0  0\\n   -1.1595   -1.5668    0.2444 C   0  0  0  0  0  0  0  0  0  0  0  0\\n   -2.5094   -1.1813    0.1294 C   0  0  0  0  0  0  0  0  0  0  0  0\\n   -2.9229   -0.1926   -0.7810 O   0  0  0  0  0  0  0  0  0  0  0  0\\n   -2.0973    0.4521   -1.7519 C   0  0  0  0  0  0  0  0  0  0  0  0\\n   -1.2706    1.5801   -1.1789 C   0  0  0  0  0  0  0  0  0  0  0  0\\n   -1.3039    1.9234    0.1863 C   0  0  0  0  0  0  0  0  0  0  0  0\\n   -0.5555    3.0036    0.6609 C   0  0  0  0  0  0  0  0  0  0  0  0\\n    0.2224    3.7569   -0.2205 C   0  0  0  0  0  0  0  0  0  0  0  0\\n    0.2762    3.4195   -1.5784 C   0  0  0  0  0  0  0  0  0  0  0  0\\n   -0.4665    2.3346   -2.0559 C   0  0  0  0  0  0  0  0  0  0  0  0\\n    1.0939    4.1910   -2.4807 C   0  0  0  0  0  0  0  0  0  0  0  0\\n    1.7574    4.8073   -3.2002 N   0  0  0  0  0  0  0  0  0  0  0  0\\n   -3.4775   -1.7912    0.9568 C   0  0  0  0  0  0  0  0  0  0  0  0\\n   -4.9299   -1.3713    0.8997 C   0  0  0  0  0  0  0  0  0  0  0  0\\n   -5.8352   -2.5391    0.8846 N   0  0  0  0  0  0  0  0  0  0  0  0\\n   -7.2444   -2.1585    0.9833 C   0  0  0  0  0  0  0  0  0  0  0  0\\n   -8.0380   -3.3709    0.5164 C   0  0  2  0  0  0  0  0  0  0  0  0\\n   -8.3109   -4.2470    1.5838 O   0  0  0  0  0  0  0  0  0  0  0  0\\n   -7.1432   -4.0347   -0.5244 C   0  0  0  0  0  0  0  0  0  0  0  0\\n   -5.7302   -3.4857   -0.2546 C   0  0  1  0  0  0  0  0  0  0  0  0\\n   -5.1193   -2.9078   -1.5130 C   0  0  0  0  0  0  0  0  0  0  0  0\\n   -3.9577   -3.4781   -2.0315 O   0  0  0  0  0  0  0  0  0  0  0  0\\n   -5.6673   -1.9479   -2.1183 O   0  0  0  0  0  0  0  0  0  0  0  0\\n   -3.0795   -2.7592    1.8885 C   0  0  0  0  0  0  0  0  0  0  0  0\\n   -1.7429   -3.1438    1.9878 C   0  0  0  0  0  0  0  0  0  0  0  0\\n   -1.2913   -4.3658    3.1670 Cl  0  0  0  0  0  0  0  0  0  0  0  0\\n    1.5546   -0.5127    2.3057 C   0  0  0  0  0  0  0  0  0  0  0  0\\n    1.9101    0.7514    2.7640 C   0  0  0  0  0  0  0  0  0  0  0  0\\n    2.8228    1.5219    2.0560 C   0  0  0  0  0  0  0  0  0  0  0  0\\n    3.4033    1.0354    0.8765 C   0  0  0  0  0  0  0  0  0  0  0  0\\n    4.4007    1.8924    0.2009 C   0  0  0  0  0  0  0  0  0  0  0  0\\n    3.9939    3.0940   -0.3998 C   0  0  0  0  0  0  0  0  0  0  0  0\\n    4.9298    3.9272   -1.0204 C   0  0  0  0  0  0  0  0  0  0  0  0\\n    6.2795    3.5686   -1.0302 C   0  0  0  0  0  0  0  0  0  0  0  0\\n    7.2264    4.3676   -1.6780 O   0  0  0  0  0  0  0  0  0  0  0  0\\n    8.5473    3.8837   -1.9356 C   0  0  0  0  0  0  0  0  0  0  0  0\\n    9.0478    3.0419   -0.7531 C   0  0  0  0  0  0  0  0  0  0  0  0\\n    8.0623    2.0783   -0.3736 O   0  0  0  0  0  0  0  0  0  0  0  0\\n    6.7000    2.3939   -0.3914 C   0  0  0  0  0  0  0  0  0  0  0  0\\n    5.7640    1.5498    0.2137 C   0  0  0  0  0  0  0  0  0  0  0  0\\n    4.4361   -0.1843   -1.3172 H   0  0  0  0  0  0  0  0  0  0  0  0\\n    2.7763   -0.7155   -1.7028 H   0  0  0  0  0  0  0  0  0  0  0  0\\n    3.9200   -1.8043   -0.8220 H   0  0  0  0  0  0  0  0  0  0  0  0\\n    2.5511   -3.0789    0.8024 H   0  0  0  0  0  0  0  0  0  0  0  0\\n    1.4774   -2.4207   -0.4643 H   0  0  0  0  0  0  0  0  0  0  0  0\\n   -0.4136   -1.0889   -0.3709 H   0  0  0  0  0  0  0  0  0  0  0  0\\n   -2.7657    0.8807   -2.5240 H   0  0  0  0  0  0  0  0  0  0  0  0\\n   -1.4521   -0.2871   -2.2712 H   0  0  0  0  0  0  0  0  0  0  0  0\\n   -1.9169    1.3703    0.8880 H   0  0  0  0  0  0  0  0  0  0  0  0\\n   -0.5850    3.2657    1.7152 H   0  0  0  0  0  0  0  0  0  0  0  0\\n    0.7929    4.5972    0.1583 H   0  0  0  0  0  0  0  0  0  0  0  0\\n   -0.4299    2.0832   -3.1123 H   0  0  0  0  0  0  0  0  0  0  0  0\\n   -5.1370   -0.7007    0.0387 H   0  0  0  0  0  0  0  0  0  0  0  0\\n   -5.1294   -0.7750    1.8165 H   0  0  0  0  0  0  0  0  0  0  0  0\\n   -7.4709   -1.2994    0.3105 H   0  0  0  0  0  0  0  0  0  0  0  0\\n   -7.4986   -1.8844    2.0304 H   0  0  0  0  0  0  0  0  0  0  0  0\\n   -9.0025   -3.0472    0.0652 H   0  0  0  0  0  0  0  0  0  0  0  0\\n   -7.4407   -4.5188    1.9956 H   0  0  0  0  0  0  0  0  0  0  0  0\\n   -7.5078   -3.7654   -1.5400 H   0  0  0  0  0  0  0  0  0  0  0  0\\n   -7.1644   -5.1431   -0.4327 H   0  0  0  0  0  0  0  0  0  0  0  0\\n   -5.0895   -4.3361    0.0730 H   0  0  0  0  0  0  0  0  0  0  0  0\\n   -3.5398   -3.1281   -2.8882 H   0  0  0  0  0  0  0  0  0  0  0  0\\n   -3.8119   -3.2211    2.5378 H   0  0  0  0  0  0  0  0  0  0  0  0\\n    0.8650   -1.0895    2.9059 H   0  0  0  0  0  0  0  0  0  0  0  0\\n    1.4835    1.1301    3.6850 H   0  0  0  0  0  0  0  0  0  0  0  0\\n    3.0939    2.4995    2.4389 H   0  0  0  0  0  0  0  0  0  0  0  0\\n    2.9541    3.3764   -0.3982 H   0  0  0  0  0  0  0  0  0  0  0  0\\n    4.6035    4.8379   -1.5037 H   0  0  0  0  0  0  0  0  0  0  0  0\\n    8.5294    3.2473   -2.8469 H   0  0  0  0  0  0  0  0  0  0  0  0\\n    9.2310    4.7409   -2.1076 H   0  0  0  0  0  0  0  0  0  0  0  0\\n    9.2515    3.7123    0.1092 H   0  0  0  0  0  0  0  0  0  0  0  0\\n    9.9893    2.5205   -1.0206 H   0  0  0  0  0  0  0  0  0  0  0  0\\n    6.0954    0.6349    0.6949 H   0  0  0  0  0  0  0  0  0  0  0  0\\n  1  2  1  0\\n  2  3  2  0\\n  3  4  1  0\\n  4  5  1  0\\n  5  6  1  0\\n  6  7  2  0\\n  7  8  1  0\\n  8  9  1  0\\n  9 10  1  0\\n 10 11  1  0\\n 11 12  2  0\\n 12 13  1  0\\n 13 14  2  0\\n 14 15  1  0\\n 15 16  2  0\\n 15 17  1  0\\n 17 18  3  0\\n  8 19  2  0\\n 19 20  1  0\\n 20 21  1  0\\n 21 22  1  0\\n 22 23  1  0\\n 23 24  1  0\\n 23 25  1  0\\n 25 26  1  0\\n 26 27  1  0\\n 27 28  1  0\\n 27 29  2  0\\n 19 30  1  0\\n 30 31  2  0\\n 31 32  1  0\\n  3 33  1  0\\n 33 34  2  0\\n 34 35  1  0\\n 35 36  2  0\\n 36 37  1  0\\n 37 38  2  0\\n 38 39  1  0\\n 39 40  2  0\\n 40 41  1  0\\n 41 42  1  0\\n 42 43  1  0\\n 43 44  1  0\\n 44 45  1  0\\n 45 46  2  0\\n 36  2  1  0\\n 46 37  1  0\\n 31  6  1  0\\n 45 40  1  0\\n 16 11  1  0\\n 26 21  1  0\\n  1 47  1  0\\n  1 48  1  0\\n  1 49  1  0\\n  4 50  1  0\\n  4 51  1  0\\n  7 52  1  0\\n 10 53  1  0\\n 10 54  1  0\\n 12 55  1  0\\n 13 56  1  0\\n 14 57  1  0\\n 16 58  1  0\\n 20 59  1  0\\n 20 60  1  0\\n 22 61  1  0\\n 22 62  1  0\\n 23 63  1  6\\n 24 64  1  0\\n 25 65  1  0\\n 25 66  1  0\\n 26 67  1  1\\n 28 68  1  0\\n 30 69  1  0\\n 33 70  1  0\\n 34 71  1  0\\n 35 72  1  0\\n 38 73  1  0\\n 39 74  1  0\\n 42 75  1  0\\n 42 76  1  0\\n 43 77  1  0\\n 43 78  1  0\\n 46 79  1  0\\nM  END\\n\",\"mol\");\n",
       "\tviewer_16358339992607727.setStyle({\"sphere\": {\"scale\": 1}});\n",
       "\tviewer_16358339992607727.addSurface(3,{\"opacity\": 0.7});\n",
       "\tviewer_16358339992607727.zoomTo();\n",
       "viewer_16358339992607727.render();\n",
       "});\n",
       "</script>"
      ]
     },
     "metadata": {},
     "output_type": "display_data"
    }
   ],
   "source": [
    "mol1.view(params=params)"
   ]
  },
  {
   "cell_type": "code",
   "execution_count": 7,
   "id": "99503292",
   "metadata": {},
   "outputs": [
    {
     "data": {
      "application/vnd.jupyter.widget-view+json": {
       "model_id": "898cc3338bf54ebeb3b35109c0fceefe",
       "version_major": 2,
       "version_minor": 0
      },
      "text/plain": [
       "interactive(children=(Dropdown(description='Surface', options=('No Surf', 'VDW', 'SAS', 'MS', 'SES'), value='N…"
      ]
     },
     "metadata": {},
     "output_type": "display_data"
    },
    {
     "data": {
      "text/plain": [
       "<function molecule.Molecule.view.<locals>.inter_selector(sf, st)>"
      ]
     },
     "execution_count": 7,
     "metadata": {},
     "output_type": "execute_result"
    }
   ],
   "source": [
    "mol1.view(inter=True)"
   ]
  },
  {
   "cell_type": "code",
   "execution_count": 8,
   "id": "df20a4ff",
   "metadata": {},
   "outputs": [
    {
     "data": {
      "text/plain": [
       "79"
      ]
     },
     "execution_count": 8,
     "metadata": {},
     "output_type": "execute_result"
    }
   ],
   "source": [
    "mol1.numAtoms"
   ]
  },
  {
   "cell_type": "code",
   "execution_count": 9,
   "id": "50fcfe3a",
   "metadata": {},
   "outputs": [
    {
     "data": {
      "text/plain": [
       "'C'"
      ]
     },
     "execution_count": 9,
     "metadata": {},
     "output_type": "execute_result"
    }
   ],
   "source": [
    "mol1.atomList[0].symbol"
   ]
  },
  {
   "cell_type": "code",
   "execution_count": 10,
   "id": "f2cecfe5",
   "metadata": {},
   "outputs": [],
   "source": [
    "from system import System"
   ]
  },
  {
   "cell_type": "code",
   "execution_count": 11,
   "id": "b9adc3de",
   "metadata": {},
   "outputs": [],
   "source": [
    "sys1 = System([mol1])"
   ]
  },
  {
   "cell_type": "code",
   "execution_count": 12,
   "id": "c3ad3588",
   "metadata": {},
   "outputs": [],
   "source": [
    "mol2 = mol.Molecule('CC(NCCNCC1=CC=C(OCC2=C(C)C(C3=CC=CC=C3)=CC=C2)N=C1OC)=O')"
   ]
  },
  {
   "cell_type": "code",
   "execution_count": 13,
   "id": "f917ec1f",
   "metadata": {},
   "outputs": [],
   "source": [
    "sys1.add([mol2])"
   ]
  },
  {
   "cell_type": "code",
   "execution_count": 14,
   "id": "88aab144",
   "metadata": {},
   "outputs": [],
   "source": [
    "sys1.save('system1')"
   ]
  },
  {
   "cell_type": "code",
   "execution_count": 15,
   "id": "f0632941",
   "metadata": {},
   "outputs": [],
   "source": [
    "mol2.save('mol2')"
   ]
  },
  {
   "cell_type": "code",
   "execution_count": 17,
   "id": "8117ccbb",
   "metadata": {},
   "outputs": [],
   "source": [
    "import os\n",
    "import sys\n",
    "import tempfile\n",
    "import warnings\n",
    "from distutils.spawn import find_executable\n",
    "from itertools import zip_longest\n",
    "from subprocess import PIPE, Popen"
   ]
  },
  {
   "cell_type": "code",
   "execution_count": 18,
   "id": "52d13de4",
   "metadata": {},
   "outputs": [],
   "source": [
    "PACKMOL = find_executable(\"packmol\")"
   ]
  },
  {
   "cell_type": "code",
   "execution_count": 20,
   "id": "1f9b688d",
   "metadata": {},
   "outputs": [],
   "source": [
    "import numpy as np"
   ]
  },
  {
   "cell_type": "code",
   "execution_count": 21,
   "id": "dec8452c",
   "metadata": {},
   "outputs": [],
   "source": [
    "import pack"
   ]
  },
  {
   "cell_type": "code",
   "execution_count": 22,
   "id": "f1c9a674",
   "metadata": {},
   "outputs": [
    {
     "name": "stdout",
     "output_type": "stream",
     "text": [
      "C:\\Users\\陈亦奇\\AppData\\Local\\Temp\\tmp26nnanu0.xyz\n"
     ]
    },
    {
     "ename": "FileNotFoundError",
     "evalue": "File C:\\Users\\陈亦奇\\AppData\\Local\\Temp\\tmp26nnanu0.xyz does not exist",
     "output_type": "error",
     "traceback": [
      "\u001b[1;31m---------------------------------------------------------------------------\u001b[0m",
      "\u001b[1;31mFileNotFoundError\u001b[0m                         Traceback (most recent call last)",
      "\u001b[1;32m~\\AppData\\Local\\Temp/ipykernel_34004/3960683548.py\u001b[0m in \u001b[0;36m<module>\u001b[1;34m\u001b[0m\n\u001b[1;32m----> 1\u001b[1;33m \u001b[0mpacked\u001b[0m \u001b[1;33m=\u001b[0m \u001b[0mpack\u001b[0m\u001b[1;33m.\u001b[0m\u001b[0minitconfig_box\u001b[0m\u001b[1;33m(\u001b[0m\u001b[0msys1\u001b[0m\u001b[1;33m)\u001b[0m\u001b[1;33m\u001b[0m\u001b[1;33m\u001b[0m\u001b[0m\n\u001b[0m",
      "\u001b[1;32m~\\Desktop\\Work_Files\\metamol\\metaConstruct\\pack.py\u001b[0m in \u001b[0;36minitconfig_box\u001b[1;34m(system, box, density, overlap, seed, sidemax, edge, fix_orientation, temp_file)\u001b[0m\n\u001b[0;32m    227\u001b[0m         \u001b[1;31m#filled = _create_topology(filled, compound, n_compounds)\u001b[0m\u001b[1;33m\u001b[0m\u001b[1;33m\u001b[0m\u001b[1;33m\u001b[0m\u001b[0m\n\u001b[0;32m    228\u001b[0m         \u001b[0msystem\u001b[0m\u001b[1;33m.\u001b[0m\u001b[0mflatten\u001b[0m\u001b[1;33m(\u001b[0m\u001b[1;33m)\u001b[0m\u001b[1;33m\u001b[0m\u001b[1;33m\u001b[0m\u001b[0m\n\u001b[1;32m--> 229\u001b[1;33m         \u001b[0msystem\u001b[0m\u001b[1;33m.\u001b[0m\u001b[0mupdate_coords\u001b[0m\u001b[1;33m(\u001b[0m\u001b[0mfilled_xyz\u001b[0m\u001b[1;33m.\u001b[0m\u001b[0mname\u001b[0m\u001b[1;33m)\u001b[0m\u001b[1;33m\u001b[0m\u001b[1;33m\u001b[0m\u001b[0m\n\u001b[0m\u001b[0;32m    230\u001b[0m \u001b[1;33m\u001b[0m\u001b[0m\n\u001b[0;32m    231\u001b[0m     \u001b[1;31m# ensure that the temporary files are removed from the machine after filling\u001b[0m\u001b[1;33m\u001b[0m\u001b[1;33m\u001b[0m\u001b[1;33m\u001b[0m\u001b[0m\n",
      "\u001b[1;32m~\\Desktop\\Work_Files\\metamol\\metaConstruct\\system.py\u001b[0m in \u001b[0;36mupdate_coords\u001b[1;34m(self, file)\u001b[0m\n\u001b[0;32m     40\u001b[0m     \u001b[1;32mdef\u001b[0m \u001b[0mupdate_coords\u001b[0m\u001b[1;33m(\u001b[0m\u001b[0mself\u001b[0m\u001b[1;33m,\u001b[0m \u001b[0mfile\u001b[0m\u001b[1;33m)\u001b[0m\u001b[1;33m:\u001b[0m\u001b[1;33m\u001b[0m\u001b[1;33m\u001b[0m\u001b[0m\n\u001b[0;32m     41\u001b[0m         \u001b[1;32mif\u001b[0m \u001b[1;32mnot\u001b[0m \u001b[0mos\u001b[0m\u001b[1;33m.\u001b[0m\u001b[0mpath\u001b[0m\u001b[1;33m.\u001b[0m\u001b[0misdir\u001b[0m\u001b[1;33m(\u001b[0m\u001b[0mfile\u001b[0m\u001b[1;33m)\u001b[0m\u001b[1;33m:\u001b[0m\u001b[1;33m\u001b[0m\u001b[1;33m\u001b[0m\u001b[0m\n\u001b[1;32m---> 42\u001b[1;33m             \u001b[1;32mraise\u001b[0m \u001b[0mFileNotFoundError\u001b[0m\u001b[1;33m(\u001b[0m\u001b[1;34m\"File {} does not exist\"\u001b[0m\u001b[1;33m.\u001b[0m\u001b[0mformat\u001b[0m\u001b[1;33m(\u001b[0m\u001b[0mfile\u001b[0m\u001b[1;33m)\u001b[0m\u001b[1;33m)\u001b[0m\u001b[1;33m\u001b[0m\u001b[1;33m\u001b[0m\u001b[0m\n\u001b[0m\u001b[0;32m     43\u001b[0m \u001b[1;33m\u001b[0m\u001b[0m\n\u001b[0;32m     44\u001b[0m         \u001b[0mnew_coords\u001b[0m \u001b[1;33m=\u001b[0m \u001b[0mnp\u001b[0m\u001b[1;33m.\u001b[0m\u001b[0mloadtxt\u001b[0m\u001b[1;33m(\u001b[0m\u001b[0mfile\u001b[0m\u001b[1;33m,\u001b[0m \u001b[0mdelimiter\u001b[0m\u001b[1;33m=\u001b[0m\u001b[1;34m'\\s+'\u001b[0m\u001b[1;33m,\u001b[0m \u001b[0mskiprows\u001b[0m\u001b[1;33m=\u001b[0m\u001b[1;36m2\u001b[0m\u001b[1;33m)\u001b[0m\u001b[1;33m\u001b[0m\u001b[1;33m\u001b[0m\u001b[0m\n",
      "\u001b[1;31mFileNotFoundError\u001b[0m: File C:\\Users\\陈亦奇\\AppData\\Local\\Temp\\tmp26nnanu0.xyz does not exist"
     ]
    }
   ],
   "source": [
    "packed = pack.initconfig_box(sys1)"
   ]
  },
  {
   "cell_type": "code",
   "execution_count": 33,
   "id": "692982db",
   "metadata": {},
   "outputs": [],
   "source": [
    "proc = Popen(\n",
    "    \"{} < {}\".format(PACKMOL, 'packmol1.inp'),\n",
    "    stdin=PIPE,\n",
    "    stdout=PIPE,\n",
    "    stderr=PIPE,\n",
    "    universal_newlines=True,\n",
    "    shell=True,\n",
    ")"
   ]
  },
  {
   "cell_type": "code",
   "execution_count": 34,
   "id": "a755b4ba",
   "metadata": {},
   "outputs": [],
   "source": [
    "out, err = proc.communicate()"
   ]
  },
  {
   "cell_type": "code",
   "execution_count": 35,
   "id": "b79220f4",
   "metadata": {},
   "outputs": [
    {
     "data": {
      "text/plain": [
       "'\\n################################################################################\\n\\n PACKMOL - Packing optimization for the automated generation of\\n starting configurations for molecular dynamics simulations.\\n \\n                                                              Version 18.013 \\n\\n################################################################################\\n\\n  Packmol must be run with: packmol < inputfile.inp \\n\\n  Userguide at: www.ime.unicamp.br/~martinez/packmol \\n\\n  Reading input file... (Control-C aborts)\\n  User set maximum system dimensions:    1000.0000000000000     \\n  Seed for random number generator:        12345\\n  Output file: C:\\\\Users\\\\陈亦奇\\\\AppData\\\\Local\\\\Temp\\\\tmpbk1roteq.xyz\\n  Reading coordinate file: C:\\\\Users\\\\陈亦奇\\\\AppData\\\\Local\\\\Temp\\\\tmp3rloqlrx.xyz\\n  Reading coordinate file: C:\\\\Users\\\\陈亦奇\\\\AppData\\\\Local\\\\Temp\\\\tmp5rv4rq7i.xyz\\n  Number of independent structures:            2\\n  The structures are: \\n  Structure            1 :(          79  atoms)\\n  Structure            2 :(          60  atoms)\\n  Maximum number of GENCAN loops for all molecule packing:          400\\n  Total number of restrictions:            2\\n  Distance tolerance:    2.0000000000000000     \\n  Number of molecules of type            1 :            1\\n  Number of molecules of type            2 :            1\\n  Total number of atoms:          139\\n  Total number of molecules:            2\\n  Number of fixed molecules:            0\\n  Number of free molecules:            2\\n  Number of variables:           12\\n  Total number of fixed atoms:            0\\n  Maximum internal distance of type            1 :    20.053115711644569     \\n  Maximum internal distance of type            2 :    18.595847708992803     \\n  All atoms must be within these coordinates: \\n   x: [   -974.39999999999998      ,    1025.5999999999999       ] \\n   y: [   -980.36405546455217      ,    1019.6359445354478       ] \\n   z: [   -983.24678369679407      ,    1016.7532163032059       ] \\n  If the system is larger than this, increase the sidemax parameter. \\n\\n################################################################################\\n\\n  Building initial approximation ... \\n\\n################################################################################\\n\\n  Adjusting initial point to fit the constraints \\n\\n--------------------------------------------------------------------------------\\n\\n--------------------------------------------------------------------------------\\n\\n  Molecules of type:            1\\n\\n  Packing:|0                                                             100%|\\n          |*********************\\n\\n  Restraint-only function value:    0.0000000000000000     \\n  Maximum violation of the restraints:    0.0000000000000000     \\n\\n--------------------------------------------------------------------------------\\n\\n  Molecules of type:            2\\n\\n  Packing:|0                                                             100%|\\n          |***********************************\\n\\n  Restraint-only function value:    0.0000000000000000     \\n  Maximum violation of the restraints:    0.0000000000000000     \\n\\n--------------------------------------------------------------------------------\\n\\n  Rescaling maximum and minimum coordinates... \\n  Computing size of patches... \\n  Add fixed molecules to permanent arrays... \\n  Reseting center of mass... \\n\\n--------------------------------------------------------------------------------\\n\\n  Setting initial trial coordinates ... \\n\\n--------------------------------------------------------------------------------\\n\\n--------------------------------------------------------------------------------\\n\\n  Molecules of type:            1\\n  Adjusting random positions to fit the constraints. \\n  Packing:|0                                                             100%|\\n          |*******\\n  Restraint-only function value:    0.0000000000000000     \\n  Maximum violation of the restraints:    0.0000000000000000     \\n\\n--------------------------------------------------------------------------------\\n\\n  Molecules of type:            2\\n  Adjusting random positions to fit the constraints. \\n  Packing:|0                                                             100%|\\n          |*******\\n  Restraint-only function value:    0.0000000000000000     \\n  Maximum violation of the restraints:    0.0000000000000000     \\n\\n################################################################################\\n\\n  Objective function at initial point:    264.79549661541915     \\n\\n################################################################################\\n\\n  Packing molecules of type:            1\\n\\n################################################################################\\n\\n\\n  Initial approximation is a solution. Nothing to do. \\n\\n  Current point written to file: C:\\\\Users\\\\陈亦奇\\\\AppData\\\\Local\\\\Temp\\\\tmpbk1roteq.xyz\\n--------------------------------------------------------------------------------\\n  Packing solved for molecules of type           1\\n  Objective function value:    0.0000000000000000     \\n  Maximum violation of target distance:    0.0000000000000000     \\n  Max. constraint violation:    0.0000000000000000     \\n--------------------------------------------------------------------------------\\n\\n################################################################################\\n\\n  Packing molecules of type:            2\\n\\n################################################################################\\n\\n\\n  Initial approximation is a solution. Nothing to do. \\n\\n  Current point written to file: C:\\\\Users\\\\陈亦奇\\\\AppData\\\\Local\\\\Temp\\\\tmpbk1roteq.xyz\\n--------------------------------------------------------------------------------\\n  Packing solved for molecules of type           2\\n  Objective function value:    0.0000000000000000     \\n  Maximum violation of target distance:    0.0000000000000000     \\n  Max. constraint violation:    0.0000000000000000     \\n--------------------------------------------------------------------------------\\n\\n################################################################################\\n\\n  Packing all molecules together \\n\\n################################################################################\\n\\n\\n--------------------------------------------------------------------------------\\n\\n  Starting GENCAN loop:            0\\n  Scaling radii by:    1.1000000000000001     \\n\\n  Packing:|0                                                             100%|\\n          |******************************************************************|\\n          |\\n\\n  Function value from last GENCAN loop: f = .00000E+00\\n  Best function value before: f = .26480E+03\\n  Improvement from best function value:    99.99 %\\n  Improvement from last loop:    99.99 %\\n  Maximum violation of target distance:     0.000000\\n  Maximum violation of the constraints: .00000E+00\\n\\n################################################################################\\n\\n                                 Success! \\n              Final objective function value: .00000E+00\\n              Maximum violation of target distance:   0.000000\\n              Maximum violation of the constraints: .00000E+00\\n\\n--------------------------------------------------------------------------------\\n\\n              Please cite this work if Packmol was useful: \\n\\n           L. Martinez, R. Andrade, E. G. Birgin, J. M. Martinez, \\n         PACKMOL: A package for building initial configurations for\\n                   molecular dynamics simulations. \\n          Journal of Computational Chemistry, 30:2157-2164,2009.\\n\\n################################################################################\\n\\n  Solution written to file: C:\\\\Users\\\\陈亦奇\\\\AppData\\\\Local\\\\Temp\\\\tmpbk1roteq.xyz\\n\\n--------------------------------------------------------------------------------\\n\\n   Running time:    1.56250000E-02  seconds. \\n\\n--------------------------------------------------------------------------------\\n\\n\\n'"
      ]
     },
     "execution_count": 35,
     "metadata": {},
     "output_type": "execute_result"
    }
   ],
   "source": [
    "out"
   ]
  },
  {
   "cell_type": "code",
   "execution_count": 36,
   "id": "89cd67a7",
   "metadata": {},
   "outputs": [
    {
     "ename": "FileNotFoundError",
     "evalue": "File tmpbk1roteq.xyz does not exist",
     "output_type": "error",
     "traceback": [
      "\u001b[1;31m---------------------------------------------------------------------------\u001b[0m",
      "\u001b[1;31mFileNotFoundError\u001b[0m                         Traceback (most recent call last)",
      "\u001b[1;32m~\\AppData\\Local\\Temp/ipykernel_34004/607366028.py\u001b[0m in \u001b[0;36m<module>\u001b[1;34m\u001b[0m\n\u001b[1;32m----> 1\u001b[1;33m \u001b[0msys1\u001b[0m\u001b[1;33m.\u001b[0m\u001b[0mupdate_coords\u001b[0m\u001b[1;33m(\u001b[0m\u001b[1;34m'tmpbk1roteq.xyz'\u001b[0m\u001b[1;33m)\u001b[0m\u001b[1;33m\u001b[0m\u001b[1;33m\u001b[0m\u001b[0m\n\u001b[0m",
      "\u001b[1;32m~\\Desktop\\Work_Files\\metamol\\metaConstruct\\system.py\u001b[0m in \u001b[0;36mupdate_coords\u001b[1;34m(self, file)\u001b[0m\n\u001b[0;32m     40\u001b[0m     \u001b[1;32mdef\u001b[0m \u001b[0mupdate_coords\u001b[0m\u001b[1;33m(\u001b[0m\u001b[0mself\u001b[0m\u001b[1;33m,\u001b[0m \u001b[0mfile\u001b[0m\u001b[1;33m)\u001b[0m\u001b[1;33m:\u001b[0m\u001b[1;33m\u001b[0m\u001b[1;33m\u001b[0m\u001b[0m\n\u001b[0;32m     41\u001b[0m         \u001b[1;32mif\u001b[0m \u001b[1;32mnot\u001b[0m \u001b[0mos\u001b[0m\u001b[1;33m.\u001b[0m\u001b[0mpath\u001b[0m\u001b[1;33m.\u001b[0m\u001b[0misdir\u001b[0m\u001b[1;33m(\u001b[0m\u001b[0mfile\u001b[0m\u001b[1;33m)\u001b[0m\u001b[1;33m:\u001b[0m\u001b[1;33m\u001b[0m\u001b[1;33m\u001b[0m\u001b[0m\n\u001b[1;32m---> 42\u001b[1;33m             \u001b[1;32mraise\u001b[0m \u001b[0mFileNotFoundError\u001b[0m\u001b[1;33m(\u001b[0m\u001b[1;34m\"File {} does not exist\"\u001b[0m\u001b[1;33m.\u001b[0m\u001b[0mformat\u001b[0m\u001b[1;33m(\u001b[0m\u001b[0mfile\u001b[0m\u001b[1;33m)\u001b[0m\u001b[1;33m)\u001b[0m\u001b[1;33m\u001b[0m\u001b[1;33m\u001b[0m\u001b[0m\n\u001b[0m\u001b[0;32m     43\u001b[0m \u001b[1;33m\u001b[0m\u001b[0m\n\u001b[0;32m     44\u001b[0m         \u001b[0mnew_coords\u001b[0m \u001b[1;33m=\u001b[0m \u001b[0mnp\u001b[0m\u001b[1;33m.\u001b[0m\u001b[0mloadtxt\u001b[0m\u001b[1;33m(\u001b[0m\u001b[0mfile\u001b[0m\u001b[1;33m,\u001b[0m \u001b[0mdelimiter\u001b[0m\u001b[1;33m=\u001b[0m\u001b[1;34m'\\s+'\u001b[0m\u001b[1;33m,\u001b[0m \u001b[0mskiprows\u001b[0m\u001b[1;33m=\u001b[0m\u001b[1;36m2\u001b[0m\u001b[1;33m)\u001b[0m\u001b[1;33m\u001b[0m\u001b[1;33m\u001b[0m\u001b[0m\n",
      "\u001b[1;31mFileNotFoundError\u001b[0m: File tmpbk1roteq.xyz does not exist"
     ]
    }
   ],
   "source": [
    "sys1.update_coords('tmpbk1roteq.xyz')"
   ]
  },
  {
   "cell_type": "code",
   "execution_count": 43,
   "id": "6d8bd700",
   "metadata": {},
   "outputs": [
    {
     "name": "stderr",
     "output_type": "stream",
     "text": [
      "C:\\Users\\陈亦奇\\AppData\\Local\\Temp/ipykernel_34004/3233529326.py:1: VisibleDeprecationWarning: Reading unicode strings without specifying the encoding argument is deprecated. Set the encoding, use None for the system default.\n",
      "  new_coords = np.genfromtxt('tmpbk1roteq.xyz', delimiter='\\s+', skip_header=2, dtype=None)\n"
     ]
    }
   ],
   "source": [
    "new_coords = np.genfromtxt('tmpbk1roteq.xyz', delimiter='\\s+', skip_header=2, dtype=None)"
   ]
  },
  {
   "cell_type": "code",
   "execution_count": 47,
   "id": "ddfd2e21",
   "metadata": {},
   "outputs": [
    {
     "data": {
      "text/plain": [
       "[b'C', b'6.037116', b'31.643461', b'9.923006']"
      ]
     },
     "execution_count": 47,
     "metadata": {},
     "output_type": "execute_result"
    }
   ],
   "source": [
    "new_coords[0].split()"
   ]
  },
  {
   "cell_type": "code",
   "execution_count": null,
   "id": "b52a629a",
   "metadata": {},
   "outputs": [],
   "source": []
  }
 ],
 "metadata": {
  "kernelspec": {
   "display_name": "Python 3 (ipykernel)",
   "language": "python",
   "name": "python3"
  },
  "language_info": {
   "codemirror_mode": {
    "name": "ipython",
    "version": 3
   },
   "file_extension": ".py",
   "mimetype": "text/x-python",
   "name": "python",
   "nbconvert_exporter": "python",
   "pygments_lexer": "ipython3",
   "version": "3.8.0"
  }
 },
 "nbformat": 4,
 "nbformat_minor": 5
}
