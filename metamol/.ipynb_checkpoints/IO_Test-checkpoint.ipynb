{
 "cells": [
  {
   "cell_type": "code",
   "execution_count": 1,
   "id": "afd76d62",
   "metadata": {},
   "outputs": [],
   "source": [
    "from molecule import Molecule\n",
    "from system import System"
   ]
  },
  {
   "cell_type": "code",
   "execution_count": 2,
   "id": "c17d1d7c",
   "metadata": {},
   "outputs": [],
   "source": [
    "smi1 = 'c1cc(CCCO)ccc1'"
   ]
  },
  {
   "cell_type": "code",
   "execution_count": 3,
   "id": "578cb240",
   "metadata": {},
   "outputs": [],
   "source": [
    "mol1 = Molecule(smi1, smiles=True)"
   ]
  },
  {
   "cell_type": "code",
   "execution_count": 4,
   "id": "a171473a",
   "metadata": {},
   "outputs": [
    {
     "data": {
      "application/3dmoljs_load.v0": "<div id=\"3dmolviewer_16361024352714329\"  style=\"position: relative; width: 600px; height: 300px\">\n        <p id=\"3dmolwarning_16361024352714329\" style=\"background-color:#ffcccc;color:black\">You appear to be running in JupyterLab (or JavaScript failed to load for some other reason).  You need to install the 3dmol extension: <br>\n        <tt>jupyter labextension install jupyterlab_3dmol</tt></p>\n        </div>\n<script>\n\nvar loadScriptAsync = function(uri){\n  return new Promise((resolve, reject) => {\n    var tag = document.createElement('script');\n    tag.src = uri;\n    tag.async = true;\n    tag.onload = () => {\n      resolve();\n    };\n  var firstScriptTag = document.getElementsByTagName('script')[0];\n  firstScriptTag.parentNode.insertBefore(tag, firstScriptTag);\n});\n};\n\nif(typeof $3Dmolpromise === 'undefined') {\n$3Dmolpromise = null;\n  $3Dmolpromise = loadScriptAsync('https://3dmol.org/build/3Dmol.js');\n}\n\nvar viewer_16361024352714329 = null;\nvar warn = document.getElementById(\"3dmolwarning_16361024352714329\");\nif(warn) {\n    warn.parentNode.removeChild(warn);\n}\n$3Dmolpromise.then(function() {\nviewer_16361024352714329 = $3Dmol.createViewer($(\"#3dmolviewer_16361024352714329\"),{backgroundColor:\"white\"});\nviewer_16361024352714329.zoomTo();\n\tviewer_16361024352714329.addModel(\"22\\nCreated by MetaMol \\nC\\t2.7286948284390022\\t-0.7548197991222422\\t-0.9768384888289975\\nC\\t1.3423196129580734\\t-0.647879825186947\\t-1.1258172212907458\\nC\\t0.6168788320414385\\t0.2750855166356041\\t-0.35366322161751057\\nC\\t-0.8796613184367176\\t0.3676569647594498\\t-0.48759209119246083\\nC\\t-1.5674110466302122\\t-0.5975748003661328\\t0.4858105670251229\\nC\\t-3.090882632110149\\t-0.5781150158581346\\t0.3324489904759599\\nO\\t-3.6155718501162437\\t0.6558925186498313\\t0.7449802501401523\\nC\\t1.295149540568229\\t1.071099874648921\\t0.5847789144644259\\nC\\t2.6816039521342954\\t0.9609068346915487\\t0.7305173890088312\\nC\\t3.398054142971361\\t0.05025779881293385\\t-0.05100212531884548\\nH\\t3.2837163311535513\\t-1.4643609724605242\\t-1.5768239088226237\\nH\\t0.834521274084278\\t-1.2839956513740989\\t-1.8402653901213253\\nH\\t-1.2066322294875909\\t1.410201759747957\\t-0.281978394110006\\nH\\t-1.1791198825102867\\t0.12584364952283864\\t-1.5312089041010817\\nH\\t-1.207691854940568\\t-1.6319272306797519\\t0.2911076911539781\\nH\\t-1.3011157700419984\\t-0.3307259238580315\\t1.5322882864266452\\nH\\t-3.3811379538529516\\t-0.8108537455292537\\t-0.7186367967121206\\nH\\t-3.521624073748066\\t-1.372584734424216\\t0.9778585536484566\\nH\\t-3.6516485211877687\\t1.2372548017320075\\t-0.05873609939990826\\nH\\t0.7504769534011003\\t1.7741500480004324\\t1.2028563380981028\\nH\\t3.200168818696358\\t1.5791761739263588\\t1.4518440496307852\\nH\\t4.470912846614772\\t-0.034688242268603175\\t0.06395279525730149\\n\",\"xyz\");\n\tviewer_16361024352714329.setStyle({\"stick\": {}});\n\tviewer_16361024352714329.zoomTo();\nviewer_16361024352714329.render();\n});\n</script>",
      "text/html": [
       "<div id=\"3dmolviewer_16361024352714329\"  style=\"position: relative; width: 600px; height: 300px\">\n",
       "        <p id=\"3dmolwarning_16361024352714329\" style=\"background-color:#ffcccc;color:black\">You appear to be running in JupyterLab (or JavaScript failed to load for some other reason).  You need to install the 3dmol extension: <br>\n",
       "        <tt>jupyter labextension install jupyterlab_3dmol</tt></p>\n",
       "        </div>\n",
       "<script>\n",
       "\n",
       "var loadScriptAsync = function(uri){\n",
       "  return new Promise((resolve, reject) => {\n",
       "    var tag = document.createElement('script');\n",
       "    tag.src = uri;\n",
       "    tag.async = true;\n",
       "    tag.onload = () => {\n",
       "      resolve();\n",
       "    };\n",
       "  var firstScriptTag = document.getElementsByTagName('script')[0];\n",
       "  firstScriptTag.parentNode.insertBefore(tag, firstScriptTag);\n",
       "});\n",
       "};\n",
       "\n",
       "if(typeof $3Dmolpromise === 'undefined') {\n",
       "$3Dmolpromise = null;\n",
       "  $3Dmolpromise = loadScriptAsync('https://3dmol.org/build/3Dmol.js');\n",
       "}\n",
       "\n",
       "var viewer_16361024352714329 = null;\n",
       "var warn = document.getElementById(\"3dmolwarning_16361024352714329\");\n",
       "if(warn) {\n",
       "    warn.parentNode.removeChild(warn);\n",
       "}\n",
       "$3Dmolpromise.then(function() {\n",
       "viewer_16361024352714329 = $3Dmol.createViewer($(\"#3dmolviewer_16361024352714329\"),{backgroundColor:\"white\"});\n",
       "viewer_16361024352714329.zoomTo();\n",
       "\tviewer_16361024352714329.addModel(\"22\\nCreated by MetaMol \\nC\\t2.7286948284390022\\t-0.7548197991222422\\t-0.9768384888289975\\nC\\t1.3423196129580734\\t-0.647879825186947\\t-1.1258172212907458\\nC\\t0.6168788320414385\\t0.2750855166356041\\t-0.35366322161751057\\nC\\t-0.8796613184367176\\t0.3676569647594498\\t-0.48759209119246083\\nC\\t-1.5674110466302122\\t-0.5975748003661328\\t0.4858105670251229\\nC\\t-3.090882632110149\\t-0.5781150158581346\\t0.3324489904759599\\nO\\t-3.6155718501162437\\t0.6558925186498313\\t0.7449802501401523\\nC\\t1.295149540568229\\t1.071099874648921\\t0.5847789144644259\\nC\\t2.6816039521342954\\t0.9609068346915487\\t0.7305173890088312\\nC\\t3.398054142971361\\t0.05025779881293385\\t-0.05100212531884548\\nH\\t3.2837163311535513\\t-1.4643609724605242\\t-1.5768239088226237\\nH\\t0.834521274084278\\t-1.2839956513740989\\t-1.8402653901213253\\nH\\t-1.2066322294875909\\t1.410201759747957\\t-0.281978394110006\\nH\\t-1.1791198825102867\\t0.12584364952283864\\t-1.5312089041010817\\nH\\t-1.207691854940568\\t-1.6319272306797519\\t0.2911076911539781\\nH\\t-1.3011157700419984\\t-0.3307259238580315\\t1.5322882864266452\\nH\\t-3.3811379538529516\\t-0.8108537455292537\\t-0.7186367967121206\\nH\\t-3.521624073748066\\t-1.372584734424216\\t0.9778585536484566\\nH\\t-3.6516485211877687\\t1.2372548017320075\\t-0.05873609939990826\\nH\\t0.7504769534011003\\t1.7741500480004324\\t1.2028563380981028\\nH\\t3.200168818696358\\t1.5791761739263588\\t1.4518440496307852\\nH\\t4.470912846614772\\t-0.034688242268603175\\t0.06395279525730149\\n\",\"xyz\");\n",
       "\tviewer_16361024352714329.setStyle({\"stick\": {}});\n",
       "\tviewer_16361024352714329.zoomTo();\n",
       "viewer_16361024352714329.render();\n",
       "});\n",
       "</script>"
      ]
     },
     "metadata": {},
     "output_type": "display_data"
    }
   ],
   "source": [
    "mol1.view()"
   ]
  },
  {
   "cell_type": "code",
   "execution_count": 5,
   "id": "17ab9dbf",
   "metadata": {},
   "outputs": [],
   "source": [
    "mol1.save('mol1', ext='pdb')"
   ]
  },
  {
   "cell_type": "code",
   "execution_count": 5,
   "id": "47afa06a",
   "metadata": {},
   "outputs": [],
   "source": [
    "sys1 = System(mol1, smiles=True)"
   ]
  },
  {
   "cell_type": "code",
   "execution_count": 7,
   "id": "b41503b7",
   "metadata": {},
   "outputs": [
    {
     "data": {
      "text/plain": [
       "System id: 2351730853008\n",
       "Number of Molecules: 1\n",
       "Number of Atoms: 22\n",
       "Number of Bonds: 22\n",
       "Box: [40.0, 40.0, 40.0]"
      ]
     },
     "execution_count": 7,
     "metadata": {},
     "output_type": "execute_result"
    }
   ],
   "source": []
  },
  {
   "cell_type": "code",
   "execution_count": null,
   "id": "bfd35348",
   "metadata": {},
   "outputs": [],
   "source": []
  }
 ],
 "metadata": {
  "kernelspec": {
   "display_name": "Python 3 (ipykernel)",
   "language": "python",
   "name": "python3"
  },
  "language_info": {
   "codemirror_mode": {
    "name": "ipython",
    "version": 3
   },
   "file_extension": ".py",
   "mimetype": "text/x-python",
   "name": "python",
   "nbconvert_exporter": "python",
   "pygments_lexer": "ipython3",
   "version": "3.8.0"
  }
 },
 "nbformat": 4,
 "nbformat_minor": 5
}
